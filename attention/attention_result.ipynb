{
 "cells": [
  {
   "cell_type": "code",
   "execution_count": 2,
   "metadata": {},
   "outputs": [],
   "source": [
    "import pandas as pd\n",
    "from sklearn.metrics import confusion_matrix, precision_score, recall_score\n",
    "\n",
    "probability = pd.read_csv('output_attention.txt', header=None)"
   ]
  },
  {
   "cell_type": "code",
   "execution_count": 3,
   "metadata": {},
   "outputs": [
    {
     "data": {
      "text/plain": [
       "(0.7117181883537024,\n",
       " 0.9124423963133641,\n",
       " array([[58375,   401],\n",
       "        [   95,   990]], dtype=int64))"
      ]
     },
     "execution_count": 3,
     "metadata": {},
     "output_type": "execute_result"
    }
   ],
   "source": [
    "data = {\n",
    "    'probability': probability[0].tolist()  # replace with your actual probabilities\n",
    "}\n",
    "df = pd.DataFrame(data)\n",
    "\n",
    "# Create a column for actual labels: 1 for positive (first 1085 rows), 0 for negative\n",
    "n_positive = 1085\n",
    "df['actual'] = [1 if i < n_positive else 0 for i in range(len(df))]\n",
    "\n",
    "# Predicted labels based on the threshold\n",
    "threshold = 0.5\n",
    "df['predicted'] = df['probability'].apply(lambda x: 1 if x > threshold else 0)\n",
    "\n",
    "# Confusion matrix\n",
    "cm = confusion_matrix(df['actual'], df['predicted'])\n",
    "\n",
    "# Calculating precision and recall\n",
    "precision = precision_score(df['actual'], df['predicted'])\n",
    "recall = recall_score(df['actual'], df['predicted'])\n",
    "\n",
    "precision, recall, cm"
   ]
  },
  {
   "cell_type": "code",
   "execution_count": null,
   "metadata": {},
   "outputs": [],
   "source": []
  }
 ],
 "metadata": {
  "kernelspec": {
   "display_name": "capstone",
   "language": "python",
   "name": "python3"
  },
  "language_info": {
   "codemirror_mode": {
    "name": "ipython",
    "version": 3
   },
   "file_extension": ".py",
   "mimetype": "text/x-python",
   "name": "python",
   "nbconvert_exporter": "python",
   "pygments_lexer": "ipython3",
   "version": "3.9.18"
  },
  "orig_nbformat": 4
 },
 "nbformat": 4,
 "nbformat_minor": 2
}
